{
 "cells": [
  {
   "cell_type": "markdown",
   "metadata": {
    "id": "oVcOCrPFZyNq"
   },
   "source": [
    "## A notebook to clean UD conllu files to be used in MaChAmp:"
   ]
  },
  {
   "cell_type": "code",
   "execution_count": null,
   "metadata": {
    "id": "dcr3N0fjTUxa",
    "colab": {
     "base_uri": "https://localhost:8080/"
    },
    "executionInfo": {
     "status": "ok",
     "timestamp": 1715779174577,
     "user_tz": -120,
     "elapsed": 390,
     "user": {
      "displayName": "Xaver Krueckl",
      "userId": "04994225532745810101"
     }
    },
    "outputId": "d9349e6b-61e3-4aa7-96ce-f0e94c23610b"
   },
   "outputs": [],
   "source": [
    "# clean runtime file catalogue\n",
    "%rm -r machamp\n",
    "%rm -r sample_data"
   ]
  },
  {
   "cell_type": "code",
   "source": [
    "# clone machamp\n",
    "%cd /content\n",
    "%pwd\n",
    "%ls\n",
    "! git clone https://github.com/machamp-nlp/machamp.git"
   ],
   "metadata": {
    "colab": {
     "base_uri": "https://localhost:8080/"
    },
    "id": "6dub2nXXopwe",
    "executionInfo": {
     "status": "ok",
     "timestamp": 1715779179818,
     "user_tz": -120,
     "elapsed": 919,
     "user": {
      "displayName": "Xaver Krueckl",
      "userId": "04994225532745810101"
     }
    },
    "outputId": "1eb9161c-6d48-4e1a-efd6-ba2a1be4bf9b"
   },
   "execution_count": null,
   "outputs": []
  },
  {
   "cell_type": "code",
   "source": [
    "# mount drive\n",
    "from google.colab import drive\n",
    "drive.mount('/content/drive')\n",
    "! export PATH=$PATH:/root/.local/bin"
   ],
   "metadata": {
    "colab": {
     "base_uri": "https://localhost:8080/"
    },
    "id": "U-rXwrPTI-Mh",
    "executionInfo": {
     "status": "ok",
     "timestamp": 1715779201919,
     "user_tz": -120,
     "elapsed": 18621,
     "user": {
      "displayName": "Xaver Krueckl",
      "userId": "04994225532745810101"
     }
    },
    "outputId": "008efed8-7bd4-4272-e3f4-b146aed30212"
   },
   "execution_count": null,
   "outputs": []
  },
  {
   "cell_type": "code",
   "source": [
    "# make sure to be in /machamp !\n",
    "%cd /content/machamp\n",
    "%pwd"
   ],
   "metadata": {
    "colab": {
     "base_uri": "https://localhost:8080/",
     "height": 73
    },
    "id": "PX_ehnNTOQ_w",
    "executionInfo": {
     "status": "ok",
     "timestamp": 1715779230692,
     "user_tz": -120,
     "elapsed": 570,
     "user": {
      "displayName": "Xaver Krueckl",
      "userId": "04994225532745810101"
     }
    },
    "outputId": "e36230c6-7ab2-42f5-e3b8-df28b301a334"
   },
   "execution_count": null,
   "outputs": []
  },
  {
   "cell_type": "code",
   "execution_count": null,
   "metadata": {
    "colab": {
     "base_uri": "https://localhost:8080/"
    },
    "id": "1kf7GD5BaBvI",
    "outputId": "503251eb-79f7-4d00-f82f-22467a869825",
    "executionInfo": {
     "status": "ok",
     "timestamp": 1715779405192,
     "user_tz": -120,
     "elapsed": 170124,
     "user": {
      "displayName": "Xaver Krueckl",
      "userId": "04994225532745810101"
     }
    }
   },
   "outputs": [],
   "source": [
    "# install requirements\n",
    "! cat README.md | grep \"requirements\";\n",
    "! pip3 install --user -r requirements.txt"
   ]
  },
  {
   "cell_type": "code",
   "execution_count": null,
   "metadata": {
    "id": "QyQgq3dNmZuP",
    "executionInfo": {
     "status": "ok",
     "timestamp": 1715780272994,
     "user_tz": -120,
     "elapsed": 28581,
     "user": {
      "displayName": "Xaver Krueckl",
      "userId": "04994225532745810101"
     }
    },
    "colab": {
     "base_uri": "https://localhost:8080/"
    },
    "outputId": "5a877d46-801c-4046-a50d-a77376740bc5"
   },
   "outputs": [],
   "source": [
    "# modifying/cleaning the conllu files - replaces the original files!\n",
    "\n",
    "!python3 scripts/misc/cleanconl.py /content/drive/MyDrive/Masterarbeit/mod_UD_English-EWT-master_2024-05/bar_maibaam-ud-test.conllu\n",
    "\n",
    "!python3 scripts/misc/cleanconl.py /content/drive/MyDrive/Masterarbeit/mod_UD_English-EWT-master_2024-05/en_ewt-ud-train.conllu\n",
    "!python3 scripts/misc/cleanconl.py /content/drive/MyDrive/Masterarbeit/mod_UD_English-EWT-master_2024-05/en_ewt-ud-test.conllu\n",
    "!python3 scripts/misc/cleanconl.py /content/drive/MyDrive/Masterarbeit/mod_UD_English-EWT-master_2024-05/en_ewt-ud-dev.conllu\n"
   ]
  },
  {
   "cell_type": "markdown",
   "metadata": {
    "id": "OhcUQ7_A1y0t"
   },
   "source": [
    "### Reference for _MaChAmp_:\n",
    "\n",
    "```\n",
    "@inproceedings{van-der-goot-etal-2021-massive,\n",
    "    title = \"Massive Choice, Ample Tasks ({M}a{C}h{A}mp): A Toolkit for Multi-task Learning in {NLP}\",\n",
    "    author = {van der Goot, Rob  and\n",
    "      {\\\"U}st{\\\"u}n, Ahmet  and\n",
    "      Ramponi, Alan  and\n",
    "      Sharaf, Ibrahim  and\n",
    "      Plank, Barbara},\n",
    "    booktitle = \"Proceedings of the 16th Conference of the European Chapter of the Association for Computational Linguistics: System Demonstrations\",\n",
    "    month = apr,\n",
    "    year = \"2021\",\n",
    "    address = \"Online\",\n",
    "    publisher = \"Association for Computational Linguistics\",\n",
    "    url = \"https://aclanthology.org/2021.eacl-demos.22\",\n",
    "    doi = \"10.18653/v1/2021.eacl-demos.22\",\n",
    "    pages = \"176--197\",\n",
    "    abstract = \"Transfer learning, particularly approaches that combine multi-task learning with pre-trained contextualized embeddings and fine-tuning, have advanced the field of Natural Language Processing tremendously in recent years. In this paper we present MaChAmp, a toolkit for easy fine-tuning of contextualized embeddings in multi-task settings. The benefits of MaChAmp are its flexible configuration options, and the support of a variety of natural language processing tasks in a uniform toolkit, from text classification and sequence labeling to dependency parsing, masked language modeling, and text generation.\",\n",
    "}\n",
    "```"
   ]
  },
  {
   "cell_type": "code",
   "execution_count": null,
   "outputs": [],
   "source": [],
   "metadata": {
    "collapsed": false
   }
  }
 ],
 "metadata": {
  "colab": {
   "provenance": []
  },
  "kernelspec": {
   "display_name": "Python 3",
   "name": "python3"
  },
  "language_info": {
   "name": "python"
  }
 },
 "nbformat": 4,
 "nbformat_minor": 0
}
